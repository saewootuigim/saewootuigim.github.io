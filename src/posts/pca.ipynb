{
 "cells": [
  {
   "cell_type": "markdown",
   "metadata": {
    "colab_type": "text",
    "id": "7cyxg10HiCpj"
   },
   "source": [
    "Principal Component Analysis (PCA)\n",
    "==============================\n",
    "\n",
    "Let's say that we have a data set to train a machine learning algorithm. A data set usually takes the form of a two-dimensional array where every row is an instance, experiment, observation, or any term that may comfort you, and each column represents the variable, feature, parameter, or, as before, any name that may comfort you.\n",
    "\n",
    "Typically, not all columns are mutually independent; instead, they are correlated to each other to some degree. It means that not all columns may be needed when training an algorithm when there are columns that are highly correlated to one another. If there is a way to remove such correlation and make every column mutually independent, then we may be able to reduce the number of columns, i.e., reduce the dimension. It can be done by PCA.\n",
    "\n",
    "In mathematical language, PCA is an orthogonal projection of an $m$-dimensional vector on to some $l$-dimensional subspace, where $l\\leqslant m$. If $l$ is smaller than $m$, then we can benefit from the dimension reduction, while $l=m$ is still good because every column becomes linearly independent to each other after PCA so that the multicollinearity is naturally resolved.\n",
    "\n",
    "PCA typically follows the following steps\n",
    "\n",
    "### 1. Normalize\n",
    "\n",
    "Let's say that a data set $\\mathbf{X}^b\\in\\mathbb{R}^{n\\times m}$is given. The superscript $b$ stands for raw data. I will use superscript $a$ for normalized data and no superscript for the final data.\n",
    "\n",
    "$\\mathbf{X}^b$ has $n$ experimental data and $m$ variables. We want to train a machine learning algorithm with it. What we have to do is normalization of data so that the data to have the mean at 0 and a standard deviation of 1, i.e.:\n",
    "\n",
    "\\begin{gather}\n",
    "\\mathbf{x}^a_j=\\frac{\\mathbf{x}^b_j-\\mathrm{mean}\\left(\\mathbf{x}^b_j\\right)\\mathbf{1}}{\\sigma\\left(\\mathbf{x}^b_j\\right)}\n",
    "\\end{gather}\n",
    "\n",
    "Here, $\\mathbf{x}^a_j\\in\\mathbb{R}^n$ is the normalized column vector, mean$\\left(\\mathbf{x}^b_j\\right)$ is the mean of $\\mathbf{x}^b_j$ which is a scalar, $\\mathbf{1}\\in\\mathbb{R}^n$ is a vector where all entries are 1, and $\\sigma\\left(\\mathbf{x}^b_j\\right)$ is the standard deviation of $\\mathbf{x}^b_j$. The resulting new matrix $\\mathbf{X}^a=\\left[~\\mathbf{x}^a_1~\\cdots~\\mathbf{x}^a_m~\\right]$ possesses identical information to $\\mathbf{X}^b$ but it is column-wise normalized.\n",
    "\n",
    "These are implemented as follows. First, read the data set."
   ]
  },
  {
   "cell_type": "code",
   "execution_count": 0,
   "metadata": {
    "colab": {
     "base_uri": "https://localhost:8080/",
     "height": 204
    },
    "colab_type": "code",
    "id": "SEs--X70j2-g",
    "outputId": "89f3ed5e-c72c-40e4-f0e8-d3928d36a94d"
   },
   "outputs": [
    {
     "data": {
      "text/html": [
       "<div>\n",
       "<style scoped>\n",
       "    .dataframe tbody tr th:only-of-type {\n",
       "        vertical-align: middle;\n",
       "    }\n",
       "\n",
       "    .dataframe tbody tr th {\n",
       "        vertical-align: top;\n",
       "    }\n",
       "\n",
       "    .dataframe thead th {\n",
       "        text-align: right;\n",
       "    }\n",
       "</style>\n",
       "<table border=\"1\" class=\"dataframe\">\n",
       "  <thead>\n",
       "    <tr style=\"text-align: right;\">\n",
       "      <th></th>\n",
       "      <th>MPG</th>\n",
       "      <th>Cylinders</th>\n",
       "      <th>Displacement</th>\n",
       "      <th>Horsepower</th>\n",
       "      <th>Weight</th>\n",
       "      <th>Acceleration</th>\n",
       "      <th>Model Year</th>\n",
       "      <th>Origin</th>\n",
       "    </tr>\n",
       "  </thead>\n",
       "  <tbody>\n",
       "    <tr>\n",
       "      <th>0</th>\n",
       "      <td>18.0</td>\n",
       "      <td>8</td>\n",
       "      <td>307.0</td>\n",
       "      <td>130.0</td>\n",
       "      <td>3504.0</td>\n",
       "      <td>12.0</td>\n",
       "      <td>70</td>\n",
       "      <td>1</td>\n",
       "    </tr>\n",
       "    <tr>\n",
       "      <th>1</th>\n",
       "      <td>15.0</td>\n",
       "      <td>8</td>\n",
       "      <td>350.0</td>\n",
       "      <td>165.0</td>\n",
       "      <td>3693.0</td>\n",
       "      <td>11.5</td>\n",
       "      <td>70</td>\n",
       "      <td>1</td>\n",
       "    </tr>\n",
       "    <tr>\n",
       "      <th>2</th>\n",
       "      <td>18.0</td>\n",
       "      <td>8</td>\n",
       "      <td>318.0</td>\n",
       "      <td>150.0</td>\n",
       "      <td>3436.0</td>\n",
       "      <td>11.0</td>\n",
       "      <td>70</td>\n",
       "      <td>1</td>\n",
       "    </tr>\n",
       "    <tr>\n",
       "      <th>3</th>\n",
       "      <td>16.0</td>\n",
       "      <td>8</td>\n",
       "      <td>304.0</td>\n",
       "      <td>150.0</td>\n",
       "      <td>3433.0</td>\n",
       "      <td>12.0</td>\n",
       "      <td>70</td>\n",
       "      <td>1</td>\n",
       "    </tr>\n",
       "    <tr>\n",
       "      <th>4</th>\n",
       "      <td>17.0</td>\n",
       "      <td>8</td>\n",
       "      <td>302.0</td>\n",
       "      <td>140.0</td>\n",
       "      <td>3449.0</td>\n",
       "      <td>10.5</td>\n",
       "      <td>70</td>\n",
       "      <td>1</td>\n",
       "    </tr>\n",
       "  </tbody>\n",
       "</table>\n",
       "</div>"
      ],
      "text/plain": [
       "    MPG  Cylinders  Displacement  Horsepower  Weight  Acceleration  \\\n",
       "0  18.0          8         307.0       130.0  3504.0          12.0   \n",
       "1  15.0          8         350.0       165.0  3693.0          11.5   \n",
       "2  18.0          8         318.0       150.0  3436.0          11.0   \n",
       "3  16.0          8         304.0       150.0  3433.0          12.0   \n",
       "4  17.0          8         302.0       140.0  3449.0          10.5   \n",
       "\n",
       "   Model Year  Origin  \n",
       "0          70       1  \n",
       "1          70       1  \n",
       "2          70       1  \n",
       "3          70       1  \n",
       "4          70       1  "
      ]
     },
     "execution_count": 16,
     "metadata": {
      "tags": []
     },
     "output_type": "execute_result"
    }
   ],
   "source": [
    "# This data set is from the University of California, Irvine Machine Learning Repository.\n",
    "# Last column of this data set is the make and name of the cars, which will not be used in this example.\n",
    "\n",
    "import pandas as pd\n",
    "\n",
    "column_names = ['MPG', 'Cylinders', 'Displacement', 'Horsepower', 'Weight', 'Acceleration', 'Model Year', 'Origin']\n",
    "df = pd.read_csv(\"https://archive.ics.uci.edu/ml/machine-learning-databases/auto-mpg/auto-mpg.data\",names=column_names,na_values=\"?\",comment=\"\\t\",sep=\" \",skipinitialspace=True)\n",
    "df.head()"
   ]
  },
  {
   "cell_type": "code",
   "execution_count": 0,
   "metadata": {
    "colab": {
     "base_uri": "https://localhost:8080/",
     "height": 174
    },
    "colab_type": "code",
    "id": "-0A1OACPLe8S",
    "outputId": "972bcead-18db-466c-f04b-e31ed2d6b1f9"
   },
   "outputs": [
    {
     "data": {
      "text/plain": [
       "MPG             0\n",
       "Cylinders       0\n",
       "Displacement    0\n",
       "Horsepower      6\n",
       "Weight          0\n",
       "Acceleration    0\n",
       "Model Year      0\n",
       "Origin          0\n",
       "dtype: int64"
      ]
     },
     "execution_count": 17,
     "metadata": {
      "tags": []
     },
     "output_type": "execute_result"
    }
   ],
   "source": [
    "# Let's do some pre-processing on the data set before starting PCA.\n",
    "# There are nan values in the data.\n",
    "df.isna().sum()"
   ]
  },
  {
   "cell_type": "code",
   "execution_count": 0,
   "metadata": {
    "colab": {
     "base_uri": "https://localhost:8080/",
     "height": 34
    },
    "colab_type": "code",
    "id": "fgANC6EmQ-rH",
    "outputId": "86257762-30af-40d2-acdd-25eafe743589"
   },
   "outputs": [
    {
     "name": "stdout",
     "output_type": "stream",
     "text": [
      "Size was (398, 8) is now (392, 8)\n"
     ]
    }
   ],
   "source": [
    "# Let's remove them.\n",
    "import numpy as np\n",
    "\n",
    "a = df.shape\n",
    "df.dropna(inplace=True)\n",
    "print(\"Size was {}\".format(a)+\" is now {}\".format(df.shape))"
   ]
  },
  {
   "cell_type": "code",
   "execution_count": 0,
   "metadata": {
    "colab": {
     "base_uri": "https://localhost:8080/",
     "height": 204
    },
    "colab_type": "code",
    "id": "erq2Db7kaHcs",
    "outputId": "de07b074-ec15-4ab1-d44c-3ada7d3d36dd"
   },
   "outputs": [
    {
     "data": {
      "text/html": [
       "<div>\n",
       "<style scoped>\n",
       "    .dataframe tbody tr th:only-of-type {\n",
       "        vertical-align: middle;\n",
       "    }\n",
       "\n",
       "    .dataframe tbody tr th {\n",
       "        vertical-align: top;\n",
       "    }\n",
       "\n",
       "    .dataframe thead th {\n",
       "        text-align: right;\n",
       "    }\n",
       "</style>\n",
       "<table border=\"1\" class=\"dataframe\">\n",
       "  <thead>\n",
       "    <tr style=\"text-align: right;\">\n",
       "      <th></th>\n",
       "      <th>MPG</th>\n",
       "      <th>Cylinders</th>\n",
       "      <th>Displacement</th>\n",
       "      <th>Horsepower</th>\n",
       "      <th>Weight</th>\n",
       "      <th>Acceleration</th>\n",
       "      <th>Model Year</th>\n",
       "    </tr>\n",
       "  </thead>\n",
       "  <tbody>\n",
       "    <tr>\n",
       "      <th>0</th>\n",
       "      <td>18.0</td>\n",
       "      <td>8</td>\n",
       "      <td>307.0</td>\n",
       "      <td>130.0</td>\n",
       "      <td>3504.0</td>\n",
       "      <td>12.0</td>\n",
       "      <td>70</td>\n",
       "    </tr>\n",
       "    <tr>\n",
       "      <th>1</th>\n",
       "      <td>15.0</td>\n",
       "      <td>8</td>\n",
       "      <td>350.0</td>\n",
       "      <td>165.0</td>\n",
       "      <td>3693.0</td>\n",
       "      <td>11.5</td>\n",
       "      <td>70</td>\n",
       "    </tr>\n",
       "    <tr>\n",
       "      <th>2</th>\n",
       "      <td>18.0</td>\n",
       "      <td>8</td>\n",
       "      <td>318.0</td>\n",
       "      <td>150.0</td>\n",
       "      <td>3436.0</td>\n",
       "      <td>11.0</td>\n",
       "      <td>70</td>\n",
       "    </tr>\n",
       "    <tr>\n",
       "      <th>3</th>\n",
       "      <td>16.0</td>\n",
       "      <td>8</td>\n",
       "      <td>304.0</td>\n",
       "      <td>150.0</td>\n",
       "      <td>3433.0</td>\n",
       "      <td>12.0</td>\n",
       "      <td>70</td>\n",
       "    </tr>\n",
       "    <tr>\n",
       "      <th>4</th>\n",
       "      <td>17.0</td>\n",
       "      <td>8</td>\n",
       "      <td>302.0</td>\n",
       "      <td>140.0</td>\n",
       "      <td>3449.0</td>\n",
       "      <td>10.5</td>\n",
       "      <td>70</td>\n",
       "    </tr>\n",
       "  </tbody>\n",
       "</table>\n",
       "</div>"
      ],
      "text/plain": [
       "    MPG  Cylinders  Displacement  Horsepower  Weight  Acceleration  Model Year\n",
       "0  18.0          8         307.0       130.0  3504.0          12.0          70\n",
       "1  15.0          8         350.0       165.0  3693.0          11.5          70\n",
       "2  18.0          8         318.0       150.0  3436.0          11.0          70\n",
       "3  16.0          8         304.0       150.0  3433.0          12.0          70\n",
       "4  17.0          8         302.0       140.0  3449.0          10.5          70"
      ]
     },
     "execution_count": 19,
     "metadata": {
      "tags": []
     },
     "output_type": "execute_result"
    }
   ],
   "source": [
    "# \"Origin column\" is categorical. Let's remove it from the data frame and attach it after PCA.\n",
    "origin = df.pop(\"Origin\")\n",
    "df.head()"
   ]
  },
  {
   "cell_type": "markdown",
   "metadata": {
    "colab_type": "text",
    "id": "Dds3pLvKiCpt"
   },
   "source": [
    "<p>We normalize this.</p>\n"
   ]
  },
  {
   "cell_type": "code",
   "execution_count": 0,
   "metadata": {
    "colab": {
     "base_uri": "https://localhost:8080/",
     "height": 204
    },
    "colab_type": "code",
    "id": "uDXd_bE_iCpw",
    "outputId": "5b27f609-fb7b-4016-e625-bda32874cc56"
   },
   "outputs": [
    {
     "data": {
      "text/html": [
       "<div>\n",
       "<style scoped>\n",
       "    .dataframe tbody tr th:only-of-type {\n",
       "        vertical-align: middle;\n",
       "    }\n",
       "\n",
       "    .dataframe tbody tr th {\n",
       "        vertical-align: top;\n",
       "    }\n",
       "\n",
       "    .dataframe thead th {\n",
       "        text-align: right;\n",
       "    }\n",
       "</style>\n",
       "<table border=\"1\" class=\"dataframe\">\n",
       "  <thead>\n",
       "    <tr style=\"text-align: right;\">\n",
       "      <th></th>\n",
       "      <th>MPG</th>\n",
       "      <th>Cylinders</th>\n",
       "      <th>Displacement</th>\n",
       "      <th>Horsepower</th>\n",
       "      <th>Weight</th>\n",
       "      <th>Acceleration</th>\n",
       "      <th>Model Year</th>\n",
       "    </tr>\n",
       "  </thead>\n",
       "  <tbody>\n",
       "    <tr>\n",
       "      <th>0</th>\n",
       "      <td>-0.697747</td>\n",
       "      <td>1.482053</td>\n",
       "      <td>1.075915</td>\n",
       "      <td>0.663285</td>\n",
       "      <td>0.619748</td>\n",
       "      <td>-1.283618</td>\n",
       "      <td>-1.623241</td>\n",
       "    </tr>\n",
       "    <tr>\n",
       "      <th>1</th>\n",
       "      <td>-1.082115</td>\n",
       "      <td>1.482053</td>\n",
       "      <td>1.486832</td>\n",
       "      <td>1.572585</td>\n",
       "      <td>0.842258</td>\n",
       "      <td>-1.464852</td>\n",
       "      <td>-1.623241</td>\n",
       "    </tr>\n",
       "    <tr>\n",
       "      <th>2</th>\n",
       "      <td>-0.697747</td>\n",
       "      <td>1.482053</td>\n",
       "      <td>1.181033</td>\n",
       "      <td>1.182885</td>\n",
       "      <td>0.539692</td>\n",
       "      <td>-1.646086</td>\n",
       "      <td>-1.623241</td>\n",
       "    </tr>\n",
       "    <tr>\n",
       "      <th>3</th>\n",
       "      <td>-0.953992</td>\n",
       "      <td>1.482053</td>\n",
       "      <td>1.047246</td>\n",
       "      <td>1.182885</td>\n",
       "      <td>0.536160</td>\n",
       "      <td>-1.283618</td>\n",
       "      <td>-1.623241</td>\n",
       "    </tr>\n",
       "    <tr>\n",
       "      <th>4</th>\n",
       "      <td>-0.825870</td>\n",
       "      <td>1.482053</td>\n",
       "      <td>1.028134</td>\n",
       "      <td>0.923085</td>\n",
       "      <td>0.554997</td>\n",
       "      <td>-1.827320</td>\n",
       "      <td>-1.623241</td>\n",
       "    </tr>\n",
       "  </tbody>\n",
       "</table>\n",
       "</div>"
      ],
      "text/plain": [
       "        MPG  Cylinders  Displacement  Horsepower    Weight  Acceleration  \\\n",
       "0 -0.697747   1.482053      1.075915    0.663285  0.619748     -1.283618   \n",
       "1 -1.082115   1.482053      1.486832    1.572585  0.842258     -1.464852   \n",
       "2 -0.697747   1.482053      1.181033    1.182885  0.539692     -1.646086   \n",
       "3 -0.953992   1.482053      1.047246    1.182885  0.536160     -1.283618   \n",
       "4 -0.825870   1.482053      1.028134    0.923085  0.554997     -1.827320   \n",
       "\n",
       "   Model Year  \n",
       "0   -1.623241  \n",
       "1   -1.623241  \n",
       "2   -1.623241  \n",
       "3   -1.623241  \n",
       "4   -1.623241  "
      ]
     },
     "execution_count": 20,
     "metadata": {
      "tags": []
     },
     "output_type": "execute_result"
    }
   ],
   "source": [
    "X_norm = (df-df.mean())/df.std()\n",
    "X_norm.head()"
   ]
  },
  {
   "cell_type": "markdown",
   "metadata": {
    "colab_type": "text",
    "id": "AhP7JDkFiCp1"
   },
   "source": [
    "### 2. Covariance Matrix\n",
    "\n",
    "Next, we need to compute the covariance between each column. The definition of covariance is\n",
    "\n",
    "\\begin{gather}\n",
    "\\mathbf{Cov}=\\frac{1}{n-1}\\mathbf{X}^{aT}\\mathbf{X}^a\n",
    "\\end{gather}\n",
    "\n",
    "but the DataFrame class in `pandas` already has covariance method. So we do it in following way."
   ]
  },
  {
   "cell_type": "code",
   "execution_count": 0,
   "metadata": {
    "colab": {
     "base_uri": "https://localhost:8080/",
     "height": 266
    },
    "colab_type": "code",
    "id": "GxH4yhcViCp2",
    "outputId": "84b4db75-66e4-4199-d134-d51118cf6690",
    "scrolled": true
   },
   "outputs": [
    {
     "data": {
      "text/html": [
       "<div>\n",
       "<style scoped>\n",
       "    .dataframe tbody tr th:only-of-type {\n",
       "        vertical-align: middle;\n",
       "    }\n",
       "\n",
       "    .dataframe tbody tr th {\n",
       "        vertical-align: top;\n",
       "    }\n",
       "\n",
       "    .dataframe thead th {\n",
       "        text-align: right;\n",
       "    }\n",
       "</style>\n",
       "<table border=\"1\" class=\"dataframe\">\n",
       "  <thead>\n",
       "    <tr style=\"text-align: right;\">\n",
       "      <th></th>\n",
       "      <th>MPG</th>\n",
       "      <th>Cylinders</th>\n",
       "      <th>Displacement</th>\n",
       "      <th>Horsepower</th>\n",
       "      <th>Weight</th>\n",
       "      <th>Acceleration</th>\n",
       "      <th>Model Year</th>\n",
       "    </tr>\n",
       "  </thead>\n",
       "  <tbody>\n",
       "    <tr>\n",
       "      <th>MPG</th>\n",
       "      <td>1.000000</td>\n",
       "      <td>-0.777618</td>\n",
       "      <td>-0.805127</td>\n",
       "      <td>-0.778427</td>\n",
       "      <td>-0.832244</td>\n",
       "      <td>0.423329</td>\n",
       "      <td>0.580541</td>\n",
       "    </tr>\n",
       "    <tr>\n",
       "      <th>Cylinders</th>\n",
       "      <td>-0.777618</td>\n",
       "      <td>1.000000</td>\n",
       "      <td>0.950823</td>\n",
       "      <td>0.842983</td>\n",
       "      <td>0.897527</td>\n",
       "      <td>-0.504683</td>\n",
       "      <td>-0.345647</td>\n",
       "    </tr>\n",
       "    <tr>\n",
       "      <th>Displacement</th>\n",
       "      <td>-0.805127</td>\n",
       "      <td>0.950823</td>\n",
       "      <td>1.000000</td>\n",
       "      <td>0.897257</td>\n",
       "      <td>0.932994</td>\n",
       "      <td>-0.543800</td>\n",
       "      <td>-0.369855</td>\n",
       "    </tr>\n",
       "    <tr>\n",
       "      <th>Horsepower</th>\n",
       "      <td>-0.778427</td>\n",
       "      <td>0.842983</td>\n",
       "      <td>0.897257</td>\n",
       "      <td>1.000000</td>\n",
       "      <td>0.864538</td>\n",
       "      <td>-0.689196</td>\n",
       "      <td>-0.416361</td>\n",
       "    </tr>\n",
       "    <tr>\n",
       "      <th>Weight</th>\n",
       "      <td>-0.832244</td>\n",
       "      <td>0.897527</td>\n",
       "      <td>0.932994</td>\n",
       "      <td>0.864538</td>\n",
       "      <td>1.000000</td>\n",
       "      <td>-0.416839</td>\n",
       "      <td>-0.309120</td>\n",
       "    </tr>\n",
       "    <tr>\n",
       "      <th>Acceleration</th>\n",
       "      <td>0.423329</td>\n",
       "      <td>-0.504683</td>\n",
       "      <td>-0.543800</td>\n",
       "      <td>-0.689196</td>\n",
       "      <td>-0.416839</td>\n",
       "      <td>1.000000</td>\n",
       "      <td>0.290316</td>\n",
       "    </tr>\n",
       "    <tr>\n",
       "      <th>Model Year</th>\n",
       "      <td>0.580541</td>\n",
       "      <td>-0.345647</td>\n",
       "      <td>-0.369855</td>\n",
       "      <td>-0.416361</td>\n",
       "      <td>-0.309120</td>\n",
       "      <td>0.290316</td>\n",
       "      <td>1.000000</td>\n",
       "    </tr>\n",
       "  </tbody>\n",
       "</table>\n",
       "</div>"
      ],
      "text/plain": [
       "                   MPG  Cylinders  Displacement  Horsepower    Weight  \\\n",
       "MPG           1.000000  -0.777618     -0.805127   -0.778427 -0.832244   \n",
       "Cylinders    -0.777618   1.000000      0.950823    0.842983  0.897527   \n",
       "Displacement -0.805127   0.950823      1.000000    0.897257  0.932994   \n",
       "Horsepower   -0.778427   0.842983      0.897257    1.000000  0.864538   \n",
       "Weight       -0.832244   0.897527      0.932994    0.864538  1.000000   \n",
       "Acceleration  0.423329  -0.504683     -0.543800   -0.689196 -0.416839   \n",
       "Model Year    0.580541  -0.345647     -0.369855   -0.416361 -0.309120   \n",
       "\n",
       "              Acceleration  Model Year  \n",
       "MPG               0.423329    0.580541  \n",
       "Cylinders        -0.504683   -0.345647  \n",
       "Displacement     -0.543800   -0.369855  \n",
       "Horsepower       -0.689196   -0.416361  \n",
       "Weight           -0.416839   -0.309120  \n",
       "Acceleration      1.000000    0.290316  \n",
       "Model Year        0.290316    1.000000  "
      ]
     },
     "metadata": {
      "tags": []
     },
     "output_type": "display_data"
    }
   ],
   "source": [
    "cov = X_norm.cov()\n",
    "with pd.option_context('display.max_rows', None, 'display.max_columns', None):\n",
    "  display(cov)"
   ]
  },
  {
   "cell_type": "markdown",
   "metadata": {
    "colab_type": "text",
    "id": "n_wQjUvtiCp6"
   },
   "source": [
    "We see that the off-diagonal elements are very large (far from 0 and close to 1) which indicates the PCA would be meaningful.\n",
    "\n",
    "### 3. Eigenvalue Decomposition\n",
    "\n",
    "Now, it is time to analyze and obtain the principal components. Actually, the eigenvalue decomposition is everything you need to do.\n",
    "\n",
    "\\begin{gather}\n",
    "\\mathbf{Cov}=\\mathbf{V}\\boldsymbol{\\Lambda}\\mathbf{V}^T.\n",
    "\\end{gather}\n",
    "\n",
    "Here, $\\mathbf{V}$ is a matrix that has eigenvectors of $\\mathbf{C}$ as its column vectors and $\\boldsymbol{\\Lambda}$ is a diagonal matrix having eigenvalues as its entries. Algebraic and geometric multiplicities are not strictly considered. Actually, for the real world data, it is rare to see such situation unless there are duplicated columns exist in the data set $\\mathbf{X}^b$.\n",
    "\n",
    "The eigenvalues are, in fact, the variance, or importance, of corresponding the eigenvector, and the corresponding eigenvector is the *recipe* to generate the corresponding prinicpal component: dot product of row $i$ in $\\mathbf{X}^a$ and eigenvector 1 yield principal component 1. In general\n",
    "\n",
    "\\begin{gather}\n",
    "\\mathbf{x}_i=\\mathbf{x}^a_i\\mathbf{V}.\n",
    "\\end{gather}\n",
    "  \n",
    "To represent whole data by PCA, one should choose all the principal components to create a new data set. Such approach would not be able to reduce the dimension, however, this preprocessed data set is de-correlated and the learning algorithm should return better prediction with shorter training time. On the other hand, one could choose several significant PCs to approximately represent the data and reduce the dimension of input data set without loosing much information of $\\mathbf{X}$.\n",
    "\n",
    "`numpy` has `eig` method which does the work for you, but it is not sorted."
   ]
  },
  {
   "cell_type": "code",
   "execution_count": 0,
   "metadata": {
    "colab": {
     "base_uri": "https://localhost:8080/",
     "height": 139
    },
    "colab_type": "code",
    "id": "DXbqrvPOiCp7",
    "outputId": "83e2930e-6ea5-45d6-8ddc-6966cb9e596c"
   },
   "outputs": [
    {
     "name": "stdout",
     "output_type": "stream",
     "text": [
      "norm of col 0 = 1.0000, lambda=5.0106\n",
      "norm of col 1 = 1.0000, lambda=0.8656\n",
      "norm of col 2 = 1.0000, lambda=0.7284\n",
      "norm of col 3 = 1.0000, lambda=0.1839\n",
      "norm of col 4 = 1.0000, lambda=0.1219\n",
      "norm of col 5 = 1.0000, lambda=0.0543\n",
      "norm of col 6 = 1.0000, lambda=0.0353\n"
     ]
    }
   ],
   "source": [
    "w, v = np.linalg.eig(cov)\n",
    "for i in range(len(w)):\n",
    "    print(\"norm of col {:1d} = {:.4f}, lambda={:.4f}\".format(i,np.linalg.norm(v[:,i]),w[i]))"
   ]
  },
  {
   "cell_type": "markdown",
   "metadata": {
    "colab_type": "text",
    "id": "9IzdPwf5iCp-"
   },
   "source": [
    "We want to choose the first a few significant principal components, which is an easy task if the decomposition is sorted in descending order."
   ]
  },
  {
   "cell_type": "code",
   "execution_count": 0,
   "metadata": {
    "colab": {
     "base_uri": "https://localhost:8080/",
     "height": 388
    },
    "colab_type": "code",
    "id": "Lu1FajTxiCp_",
    "outputId": "7c18b561-143b-4651-f3a6-ce4c1299276f"
   },
   "outputs": [
    {
     "name": "stdout",
     "output_type": "stream",
     "text": [
      "norm of col 0 = 1.0000, lambda=5.0106\n",
      "norm of col 1 = 1.0000, lambda=0.8656\n",
      "norm of col 2 = 1.0000, lambda=0.7284\n",
      "norm of col 3 = 1.0000, lambda=0.1839\n",
      "norm of col 4 = 1.0000, lambda=0.1219\n",
      "norm of col 5 = 1.0000, lambda=0.0543\n",
      "norm of col 6 = 1.0000, lambda=0.0353\n"
     ]
    },
    {
     "data": {
      "text/html": [
       "<div>\n",
       "<style scoped>\n",
       "    .dataframe tbody tr th:only-of-type {\n",
       "        vertical-align: middle;\n",
       "    }\n",
       "\n",
       "    .dataframe tbody tr th {\n",
       "        vertical-align: top;\n",
       "    }\n",
       "\n",
       "    .dataframe thead th {\n",
       "        text-align: right;\n",
       "    }\n",
       "</style>\n",
       "<table border=\"1\" class=\"dataframe\">\n",
       "  <thead>\n",
       "    <tr style=\"text-align: right;\">\n",
       "      <th></th>\n",
       "      <th>eig0</th>\n",
       "      <th>eig1</th>\n",
       "      <th>eig2</th>\n",
       "      <th>eig3</th>\n",
       "      <th>eig4</th>\n",
       "      <th>eig5</th>\n",
       "      <th>eig6</th>\n",
       "    </tr>\n",
       "  </thead>\n",
       "  <tbody>\n",
       "    <tr>\n",
       "      <th>0</th>\n",
       "      <td>-0.398135</td>\n",
       "      <td>0.206759</td>\n",
       "      <td>-0.257215</td>\n",
       "      <td>-0.750966</td>\n",
       "      <td>-0.340776</td>\n",
       "      <td>0.209759</td>\n",
       "      <td>0.092212</td>\n",
       "    </tr>\n",
       "    <tr>\n",
       "      <th>1</th>\n",
       "      <td>0.416124</td>\n",
       "      <td>0.198541</td>\n",
       "      <td>0.139159</td>\n",
       "      <td>-0.477306</td>\n",
       "      <td>0.493222</td>\n",
       "      <td>-0.332548</td>\n",
       "      <td>0.431716</td>\n",
       "    </tr>\n",
       "    <tr>\n",
       "      <th>2</th>\n",
       "      <td>0.429283</td>\n",
       "      <td>0.180362</td>\n",
       "      <td>0.100316</td>\n",
       "      <td>-0.297847</td>\n",
       "      <td>0.056581</td>\n",
       "      <td>0.142967</td>\n",
       "      <td>-0.812877</td>\n",
       "    </tr>\n",
       "    <tr>\n",
       "      <th>3</th>\n",
       "      <td>0.422813</td>\n",
       "      <td>0.085242</td>\n",
       "      <td>-0.169684</td>\n",
       "      <td>0.042076</td>\n",
       "      <td>-0.711289</td>\n",
       "      <td>-0.522803</td>\n",
       "      <td>0.064385</td>\n",
       "    </tr>\n",
       "    <tr>\n",
       "      <th>4</th>\n",
       "      <td>0.414046</td>\n",
       "      <td>0.224675</td>\n",
       "      <td>0.276103</td>\n",
       "      <td>0.107735</td>\n",
       "      <td>-0.265158</td>\n",
       "      <td>0.696518</td>\n",
       "      <td>0.367154</td>\n",
       "    </tr>\n",
       "    <tr>\n",
       "      <th>5</th>\n",
       "      <td>-0.284897</td>\n",
       "      <td>-0.006972</td>\n",
       "      <td>0.893308</td>\n",
       "      <td>-0.121124</td>\n",
       "      <td>-0.230755</td>\n",
       "      <td>-0.223785</td>\n",
       "      <td>-0.052799</td>\n",
       "    </tr>\n",
       "    <tr>\n",
       "      <th>6</th>\n",
       "      <td>-0.229510</td>\n",
       "      <td>0.909675</td>\n",
       "      <td>-0.037246</td>\n",
       "      <td>0.302435</td>\n",
       "      <td>0.088961</td>\n",
       "      <td>-0.128195</td>\n",
       "      <td>-0.051132</td>\n",
       "    </tr>\n",
       "  </tbody>\n",
       "</table>\n",
       "</div>"
      ],
      "text/plain": [
       "       eig0      eig1      eig2      eig3      eig4      eig5      eig6\n",
       "0 -0.398135  0.206759 -0.257215 -0.750966 -0.340776  0.209759  0.092212\n",
       "1  0.416124  0.198541  0.139159 -0.477306  0.493222 -0.332548  0.431716\n",
       "2  0.429283  0.180362  0.100316 -0.297847  0.056581  0.142967 -0.812877\n",
       "3  0.422813  0.085242 -0.169684  0.042076 -0.711289 -0.522803  0.064385\n",
       "4  0.414046  0.224675  0.276103  0.107735 -0.265158  0.696518  0.367154\n",
       "5 -0.284897 -0.006972  0.893308 -0.121124 -0.230755 -0.223785 -0.052799\n",
       "6 -0.229510  0.909675 -0.037246  0.302435  0.088961 -0.128195 -0.051132"
      ]
     },
     "metadata": {
      "tags": []
     },
     "output_type": "display_data"
    }
   ],
   "source": [
    "idx = np.argsort(w)[::-1]\n",
    "w = w[idx]\n",
    "v = v[:,idx]\n",
    "for i in range(len(w)):\n",
    "    print(\"norm of col {:1d} = {:.4f}, lambda={:.4f}\".format(i,np.linalg.norm(v[:,i]),w[i]))\n",
    "column_names = [\"eig{:1d}\".format(i) for i in range(len(w))]\n",
    "V = pd.DataFrame(v,columns=column_names)\n",
    "with pd.option_context('display.max_rows', None, 'display.max_columns', None):\n",
    "  display(V)"
   ]
  },
  {
   "cell_type": "markdown",
   "metadata": {
    "colab_type": "text",
    "id": "aF9-zf3ziCqB"
   },
   "source": [
    "Now, let's see how each principal components are important than the others. First, we convert the eigenvalues into the percentage, and also compute the cumulative percentages as follows.\n"
   ]
  },
  {
   "cell_type": "code",
   "execution_count": 0,
   "metadata": {
    "colab": {
     "base_uri": "https://localhost:8080/",
     "height": 139
    },
    "colab_type": "code",
    "id": "LfyIYuBiiCqB",
    "outputId": "33bd6bd6-7ebd-4ee9-f4c3-8db9fbfd7374"
   },
   "outputs": [
    {
     "name": "stdout",
     "output_type": "stream",
     "text": [
      "0  71.5805  71.5805\n",
      "1  12.3656  83.9461\n",
      "2  10.4056  94.3517\n",
      "3   2.6274  96.9791\n",
      "4   1.7417  98.7207\n",
      "5   0.7751  99.4959\n",
      "6   0.5041 100.0000\n"
     ]
    }
   ],
   "source": [
    "z = w/sum(w)*100\n",
    "z_cumul = np.cumsum(z)\n",
    "for i in range(len(z)):\n",
    "    print(\"{:d} {:8.4f} {:8.4f}\".format(i,z[i],z_cumul[i]))"
   ]
  },
  {
   "cell_type": "markdown",
   "metadata": {
    "colab_type": "text",
    "id": "ceh272ENiCqE"
   },
   "source": [
    "The first (0-th) principal component takes 67.20% of information while second has 11.80% and so on and so forth. If we include first 4 principal components, then we can represent more than 90% of information that was in the raw data $\\mathbf{X}^b$. Let's do some plotting to visualize this."
   ]
  },
  {
   "cell_type": "code",
   "execution_count": 0,
   "metadata": {
    "colab": {
     "base_uri": "https://localhost:8080/",
     "height": 228
    },
    "colab_type": "code",
    "id": "MrJEN1dUiCqF",
    "outputId": "9d855eac-3119-4298-82b6-910e5b06c541"
   },
   "outputs": [
    {
     "data": {
      "text/plain": [
       "(0, 107)"
      ]
     },
     "execution_count": 30,
     "metadata": {
      "tags": []
     },
     "output_type": "execute_result"
    },
    {
     "data": {
      "image/png": "[encoded data removed]",
      "text/plain": [
       "<Figure size 360x216 with 2 Axes>"
      ]
     },
     "metadata": {
      "tags": []
     },
     "output_type": "display_data"
    }
   ],
   "source": [
    "import matplotlib.pyplot as plt\n",
    "\n",
    "fig, ax1 = plt.subplots(figsize=(5,3))\n",
    "ax2 = plt.twinx()\n",
    "_ = plt.xticks(range(len(z)),[\"PC{:1d}\".format(i) for i in range(len(z))])\n",
    "\n",
    "\n",
    "plt.sca(ax1)\n",
    "plt.bar(range(len(z)),z)\n",
    "ax1.set_facecolor(\"None\")\n",
    "plt.grid(False)\n",
    "for i in range(len(z)):\n",
    "    plt.text(i,z[i]+1,\"{:.2f}\".format(z[i]),horizontalalignment=\"center\")\n",
    "plt.ylabel(\"Percentage [%]\")\n",
    "plt.ylim([0,79])\n",
    "\n",
    "plt.sca(ax2)\n",
    "plt.plot(range(len(z)),z_cumul,color=\"C1\",marker=\"s\")\n",
    "ax1.set_facecolor(\"None\")\n",
    "plt.grid(False)\n",
    "for i in range(1,len(z)):\n",
    "    plt.text(i,z_cumul[i]-5,\"{:.2f}\".format(z_cumul[i]),horizontalalignment=\"center\",verticalalignment=\"top\")\n",
    "plt.ylabel(\"Cumulative Percentage [%]\")\n",
    "plt.ylim([0,107])\n",
    "\n",
    "# Uncomment below if you want to save the figure.\n",
    "#plt.tight_layout()\n",
    "#plt.savefig(\"significance-r200.png\",dpi=200)"
   ]
  },
  {
   "cell_type": "markdown",
   "metadata": {
    "colab_type": "text",
    "id": "EZr733lYiCqN"
   },
   "source": [
    "Good. Since we only have 8 columns in $\\mathbf{X}^b$, we do not actually have to reduce the dimension, but when there are so many, PCA will tell you the number of principal components and its ability of data representation.\n",
    "\n",
    "### 4. Preprocessing\n",
    "\n",
    "The last step is to get PCA-ed data, $\\mathbf{X}$. Simply do\n",
    "\n",
    "\\begin{gather}\n",
    "\\mathbf{X}=\\mathbf{X}^a\\mathbf{V}\n",
    "\\end{gather}\n",
    "\n",
    "and that's it. Columns of $\\mathbf{X}$ are the principal components and their importance are from the greatest (the first column) to the smallest (the last column). If $\\mathbf{V}$, which is sorted in descending order, is used as a whole, than $\\mathbf{X}$ has the same size as $\\mathbf{X}^b$, the raw file, but if some of the columns in $\\mathbf{V}$ are discarded, $\\mathbf{X}$ will have the same number of columns as the column-discarded $\\mathbf{V}$."
   ]
  },
  {
   "cell_type": "code",
   "execution_count": 0,
   "metadata": {
    "colab": {
     "base_uri": "https://localhost:8080/",
     "height": 204
    },
    "colab_type": "code",
    "id": "DpwOWur2iCqP",
    "outputId": "287b6c63-6d3f-440b-e614-4a7198f615f3"
   },
   "outputs": [
    {
     "data": {
      "text/html": [
       "<div>\n",
       "<style scoped>\n",
       "    .dataframe tbody tr th:only-of-type {\n",
       "        vertical-align: middle;\n",
       "    }\n",
       "\n",
       "    .dataframe tbody tr th {\n",
       "        vertical-align: top;\n",
       "    }\n",
       "\n",
       "    .dataframe thead th {\n",
       "        text-align: right;\n",
       "    }\n",
       "</style>\n",
       "<table border=\"1\" class=\"dataframe\">\n",
       "  <thead>\n",
       "    <tr style=\"text-align: right;\">\n",
       "      <th></th>\n",
       "      <th>0</th>\n",
       "      <th>1</th>\n",
       "      <th>2</th>\n",
       "      <th>3</th>\n",
       "      <th>4</th>\n",
       "      <th>5</th>\n",
       "      <th>6</th>\n",
       "    </tr>\n",
       "  </thead>\n",
       "  <tbody>\n",
       "    <tr>\n",
       "      <th>0</th>\n",
       "      <td>2.631685</td>\n",
       "      <td>-0.927853</td>\n",
       "      <td>-0.533996</td>\n",
       "      <td>-0.744639</td>\n",
       "      <td>0.545311</td>\n",
       "      <td>0.094853</td>\n",
       "      <td>0.121922</td>\n",
       "    </tr>\n",
       "    <tr>\n",
       "      <th>1</th>\n",
       "      <td>3.489341</td>\n",
       "      <td>-0.804445</td>\n",
       "      <td>-0.648666</td>\n",
       "      <td>-0.494197</td>\n",
       "      <td>0.035590</td>\n",
       "      <td>-0.206870</td>\n",
       "      <td>-0.097737</td>\n",
       "    </tr>\n",
       "    <tr>\n",
       "      <th>2</th>\n",
       "      <td>2.966623</td>\n",
       "      <td>-0.880062</td>\n",
       "      <td>-0.957519</td>\n",
       "      <td>-0.718806</td>\n",
       "      <td>0.286542</td>\n",
       "      <td>-0.136413</td>\n",
       "      <td>0.059673</td>\n",
       "    </tr>\n",
       "    <tr>\n",
       "      <th>3</th>\n",
       "      <td>2.906483</td>\n",
       "      <td>-0.960493</td>\n",
       "      <td>-0.582209</td>\n",
       "      <td>-0.530810</td>\n",
       "      <td>0.283589</td>\n",
       "      <td>-0.292865</td>\n",
       "      <td>0.124362</td>\n",
       "    </tr>\n",
       "    <tr>\n",
       "      <th>4</th>\n",
       "      <td>2.900120</td>\n",
       "      <td>-0.951573</td>\n",
       "      <td>-1.053490</td>\n",
       "      <td>-0.564380</td>\n",
       "      <td>0.544107</td>\n",
       "      <td>0.001894</td>\n",
       "      <td>0.170608</td>\n",
       "    </tr>\n",
       "  </tbody>\n",
       "</table>\n",
       "</div>"
      ],
      "text/plain": [
       "          0         1         2         3         4         5         6\n",
       "0  2.631685 -0.927853 -0.533996 -0.744639  0.545311  0.094853  0.121922\n",
       "1  3.489341 -0.804445 -0.648666 -0.494197  0.035590 -0.206870 -0.097737\n",
       "2  2.966623 -0.880062 -0.957519 -0.718806  0.286542 -0.136413  0.059673\n",
       "3  2.906483 -0.960493 -0.582209 -0.530810  0.283589 -0.292865  0.124362\n",
       "4  2.900120 -0.951573 -1.053490 -0.564380  0.544107  0.001894  0.170608"
      ]
     },
     "execution_count": 26,
     "metadata": {
      "tags": []
     },
     "output_type": "execute_result"
    }
   ],
   "source": [
    "X_pca = X_norm.dot(v)\n",
    "X_pca.head()"
   ]
  },
  {
   "cell_type": "markdown",
   "metadata": {
    "colab_type": "text",
    "id": "IE90TVF8iCqU"
   },
   "source": [
    "That's it. We use $\\mathbf{X}$ instead of $\\mathbf{X}^a$ or $\\mathbf{X}^b$ for the machine learning.\n",
    "\n",
    "Let's check if the PCA-ed data doesn't have multicollinearity, i.e. covariance matrix is diagonal."
   ]
  },
  {
   "cell_type": "code",
   "execution_count": 0,
   "metadata": {
    "colab": {
     "base_uri": "https://localhost:8080/",
     "height": 266
    },
    "colab_type": "code",
    "id": "WNLibU3IiCqV",
    "outputId": "d90f23dc-b420-4c64-b832-f1e2bb5277a7"
   },
   "outputs": [
    {
     "data": {
      "text/html": [
       "<div>\n",
       "<style scoped>\n",
       "    .dataframe tbody tr th:only-of-type {\n",
       "        vertical-align: middle;\n",
       "    }\n",
       "\n",
       "    .dataframe tbody tr th {\n",
       "        vertical-align: top;\n",
       "    }\n",
       "\n",
       "    .dataframe thead th {\n",
       "        text-align: right;\n",
       "    }\n",
       "</style>\n",
       "<table border=\"1\" class=\"dataframe\">\n",
       "  <thead>\n",
       "    <tr style=\"text-align: right;\">\n",
       "      <th></th>\n",
       "      <th>0</th>\n",
       "      <th>1</th>\n",
       "      <th>2</th>\n",
       "      <th>3</th>\n",
       "      <th>4</th>\n",
       "      <th>5</th>\n",
       "      <th>6</th>\n",
       "    </tr>\n",
       "  </thead>\n",
       "  <tbody>\n",
       "    <tr>\n",
       "      <th>0</th>\n",
       "      <td>5.010636</td>\n",
       "      <td>0.000000</td>\n",
       "      <td>0.000000</td>\n",
       "      <td>0.000000</td>\n",
       "      <td>0.000000</td>\n",
       "      <td>0.000000</td>\n",
       "      <td>0.00000</td>\n",
       "    </tr>\n",
       "    <tr>\n",
       "      <th>1</th>\n",
       "      <td>0.000000</td>\n",
       "      <td>0.865591</td>\n",
       "      <td>0.000000</td>\n",
       "      <td>0.000000</td>\n",
       "      <td>0.000000</td>\n",
       "      <td>0.000000</td>\n",
       "      <td>0.00000</td>\n",
       "    </tr>\n",
       "    <tr>\n",
       "      <th>2</th>\n",
       "      <td>0.000000</td>\n",
       "      <td>0.000000</td>\n",
       "      <td>0.728394</td>\n",
       "      <td>0.000000</td>\n",
       "      <td>0.000000</td>\n",
       "      <td>0.000000</td>\n",
       "      <td>0.00000</td>\n",
       "    </tr>\n",
       "    <tr>\n",
       "      <th>3</th>\n",
       "      <td>0.000000</td>\n",
       "      <td>0.000000</td>\n",
       "      <td>0.000000</td>\n",
       "      <td>0.183915</td>\n",
       "      <td>0.000000</td>\n",
       "      <td>0.000000</td>\n",
       "      <td>0.00000</td>\n",
       "    </tr>\n",
       "    <tr>\n",
       "      <th>4</th>\n",
       "      <td>0.000000</td>\n",
       "      <td>0.000000</td>\n",
       "      <td>0.000000</td>\n",
       "      <td>0.000000</td>\n",
       "      <td>0.121916</td>\n",
       "      <td>0.000000</td>\n",
       "      <td>0.00000</td>\n",
       "    </tr>\n",
       "    <tr>\n",
       "      <th>5</th>\n",
       "      <td>0.000000</td>\n",
       "      <td>0.000000</td>\n",
       "      <td>0.000000</td>\n",
       "      <td>0.000000</td>\n",
       "      <td>0.000000</td>\n",
       "      <td>0.054257</td>\n",
       "      <td>0.00000</td>\n",
       "    </tr>\n",
       "    <tr>\n",
       "      <th>6</th>\n",
       "      <td>0.000000</td>\n",
       "      <td>0.000000</td>\n",
       "      <td>0.000000</td>\n",
       "      <td>0.000000</td>\n",
       "      <td>0.000000</td>\n",
       "      <td>0.000000</td>\n",
       "      <td>0.03529</td>\n",
       "    </tr>\n",
       "  </tbody>\n",
       "</table>\n",
       "</div>"
      ],
      "text/plain": [
       "          0         1         2         3         4         5        6\n",
       "0  5.010636  0.000000  0.000000  0.000000  0.000000  0.000000  0.00000\n",
       "1  0.000000  0.865591  0.000000  0.000000  0.000000  0.000000  0.00000\n",
       "2  0.000000  0.000000  0.728394  0.000000  0.000000  0.000000  0.00000\n",
       "3  0.000000  0.000000  0.000000  0.183915  0.000000  0.000000  0.00000\n",
       "4  0.000000  0.000000  0.000000  0.000000  0.121916  0.000000  0.00000\n",
       "5  0.000000  0.000000  0.000000  0.000000  0.000000  0.054257  0.00000\n",
       "6  0.000000  0.000000  0.000000  0.000000  0.000000  0.000000  0.03529"
      ]
     },
     "metadata": {
      "tags": []
     },
     "output_type": "display_data"
    }
   ],
   "source": [
    "C = X_pca.cov()\n",
    "C.values[C.values < 1e-14] = 0 # Supress small numbers to zero.\n",
    "with pd.option_context('display.max_rows', None, 'display.max_columns', None):\n",
    "  display(C)"
   ]
  },
  {
   "cell_type": "markdown",
   "metadata": {
    "colab_type": "text",
    "id": "tM86xgqliCqY"
   },
   "source": [
    "Yes it is. And the diagonal entries are indeed the eigenvalues. Check it out."
   ]
  },
  {
   "cell_type": "code",
   "execution_count": 0,
   "metadata": {
    "colab": {
     "base_uri": "https://localhost:8080/",
     "height": 139
    },
    "colab_type": "code",
    "id": "hQMi2kKCiCqZ",
    "outputId": "431a5a36-f292-491d-a309-15da77018502"
   },
   "outputs": [
    {
     "name": "stdout",
     "output_type": "stream",
     "text": [
      "lambda[0] = 5.0106\n",
      "lambda[1] = 0.8656\n",
      "lambda[2] = 0.7284\n",
      "lambda[3] = 0.1839\n",
      "lambda[4] = 0.1219\n",
      "lambda[5] = 0.0543\n",
      "lambda[6] = 0.0353\n"
     ]
    }
   ],
   "source": [
    "for i, eigval in enumerate(w):\n",
    "  print(\"lambda[{:1d}] = {:.4f}\".format(i,eigval))"
   ]
  }
 ],
 "metadata": {
  "colab": {
   "collapsed_sections": [],
   "name": "PCA.ipynb",
   "provenance": [],
   "version": "0.3.2"
  },
  "kernelspec": {
   "display_name": "Python 3",
   "language": "python",
   "name": "python3"
  },
  "language_info": {
   "codemirror_mode": {
    "name": "ipython",
    "version": 3
   },
   "file_extension": ".py",
   "mimetype": "text/x-python",
   "name": "python",
   "nbconvert_exporter": "python",
   "pygments_lexer": "ipython3",
   "version": "3.6.8"
  }
 },
 "nbformat": 4,
 "nbformat_minor": 1
}
